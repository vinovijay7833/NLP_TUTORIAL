{
  "nbformat": 4,
  "nbformat_minor": 0,
  "metadata": {
    "colab": {
      "provenance": [],
      "authorship_tag": "ABX9TyMNKe2b1TFSpB4s199QL+eB",
      "include_colab_link": true
    },
    "kernelspec": {
      "name": "python3",
      "display_name": "Python 3"
    },
    "language_info": {
      "name": "python"
    }
  },
  "cells": [
    {
      "cell_type": "markdown",
      "metadata": {
        "id": "view-in-github",
        "colab_type": "text"
      },
      "source": [
        "<a href=\"https://colab.research.google.com/github/vinovijay7833/NLP_TUTORIAL/blob/main/NLP_Tutorial.ipynb\" target=\"_parent\"><img src=\"https://colab.research.google.com/assets/colab-badge.svg\" alt=\"Open In Colab\"/></a>"
      ]
    },
    {
      "cell_type": "code",
      "execution_count": 2,
      "metadata": {
        "colab": {
          "base_uri": "https://localhost:8080/"
        },
        "id": "xZmosKPJBCSW",
        "outputId": "8261ee7a-a0a0-43d0-8b62-3c7241913311"
      },
      "outputs": [
        {
          "output_type": "stream",
          "name": "stdout",
          "text": [
            "Requirement already satisfied: nltk in /usr/local/lib/python3.10/dist-packages (3.8.1)\n",
            "Requirement already satisfied: click in /usr/local/lib/python3.10/dist-packages (from nltk) (8.1.7)\n",
            "Requirement already satisfied: joblib in /usr/local/lib/python3.10/dist-packages (from nltk) (1.4.2)\n",
            "Requirement already satisfied: regex>=2021.8.3 in /usr/local/lib/python3.10/dist-packages (from nltk) (2024.5.15)\n",
            "Requirement already satisfied: tqdm in /usr/local/lib/python3.10/dist-packages (from nltk) (4.66.4)\n"
          ]
        }
      ],
      "source": [
        "pip install nltk"
      ]
    },
    {
      "cell_type": "code",
      "source": [
        "import nltk\n",
        "nltk.download('punkt')\n"
      ],
      "metadata": {
        "colab": {
          "base_uri": "https://localhost:8080/"
        },
        "id": "I5meavGqBQeZ",
        "outputId": "a7d1d264-8519-4d9c-b458-7b3e2908b2ef"
      },
      "execution_count": 6,
      "outputs": [
        {
          "output_type": "stream",
          "name": "stderr",
          "text": [
            "[nltk_data] Downloading package punkt to /root/nltk_data...\n",
            "[nltk_data]   Unzipping tokenizers/punkt.zip.\n"
          ]
        },
        {
          "output_type": "execute_result",
          "data": {
            "text/plain": [
              "True"
            ]
          },
          "metadata": {},
          "execution_count": 6
        }
      ]
    },
    {
      "cell_type": "code",
      "source": [
        "corpus=\"Our country is a mosaic of diverse cultures, traditions, and natural wonders. Geographically, it offers a breathtaking spectrum, from the majestic Himalayan peaks in the north to the serene beaches in the south. Our nation boasts a range of climates, from the arid deserts of Rajasthan to the lush rainforests of Kerala.\""
      ],
      "metadata": {
        "id": "VJaopLIaB-cZ"
      },
      "execution_count": 4,
      "outputs": []
    },
    {
      "cell_type": "code",
      "source": [
        "sent=nltk.sent_tokenize(corpus)"
      ],
      "metadata": {
        "id": "sHJsOSCRCPkH"
      },
      "execution_count": 7,
      "outputs": []
    },
    {
      "cell_type": "code",
      "source": [
        "sent"
      ],
      "metadata": {
        "colab": {
          "base_uri": "https://localhost:8080/"
        },
        "id": "wrX91ppsCeXV",
        "outputId": "f546a037-5839-4532-9d89-d457a34a7f38"
      },
      "execution_count": 8,
      "outputs": [
        {
          "output_type": "execute_result",
          "data": {
            "text/plain": [
              "['Our country is a mosaic of diverse cultures, traditions, and natural wonders.',\n",
              " 'Geographically, it offers a breathtaking spectrum, from the majestic Himalayan peaks in the north to the serene beaches in the south.',\n",
              " 'Our nation boasts a range of climates, from the arid deserts of Rajasthan to the lush rainforests of Kerala.']"
            ]
          },
          "metadata": {},
          "execution_count": 8
        }
      ]
    },
    {
      "cell_type": "code",
      "source": [
        "word=nltk.word_tokenize(corpus)"
      ],
      "metadata": {
        "id": "gY6zOJwtCnhZ"
      },
      "execution_count": 9,
      "outputs": []
    },
    {
      "cell_type": "code",
      "source": [
        "word"
      ],
      "metadata": {
        "colab": {
          "base_uri": "https://localhost:8080/"
        },
        "id": "btaRAZHpCwqM",
        "outputId": "081ec8e6-19df-4535-815e-cab4db6f8bf8"
      },
      "execution_count": 10,
      "outputs": [
        {
          "output_type": "execute_result",
          "data": {
            "text/plain": [
              "['Our',\n",
              " 'country',\n",
              " 'is',\n",
              " 'a',\n",
              " 'mosaic',\n",
              " 'of',\n",
              " 'diverse',\n",
              " 'cultures',\n",
              " ',',\n",
              " 'traditions',\n",
              " ',',\n",
              " 'and',\n",
              " 'natural',\n",
              " 'wonders',\n",
              " '.',\n",
              " 'Geographically',\n",
              " ',',\n",
              " 'it',\n",
              " 'offers',\n",
              " 'a',\n",
              " 'breathtaking',\n",
              " 'spectrum',\n",
              " ',',\n",
              " 'from',\n",
              " 'the',\n",
              " 'majestic',\n",
              " 'Himalayan',\n",
              " 'peaks',\n",
              " 'in',\n",
              " 'the',\n",
              " 'north',\n",
              " 'to',\n",
              " 'the',\n",
              " 'serene',\n",
              " 'beaches',\n",
              " 'in',\n",
              " 'the',\n",
              " 'south',\n",
              " '.',\n",
              " 'Our',\n",
              " 'nation',\n",
              " 'boasts',\n",
              " 'a',\n",
              " 'range',\n",
              " 'of',\n",
              " 'climates',\n",
              " ',',\n",
              " 'from',\n",
              " 'the',\n",
              " 'arid',\n",
              " 'deserts',\n",
              " 'of',\n",
              " 'Rajasthan',\n",
              " 'to',\n",
              " 'the',\n",
              " 'lush',\n",
              " 'rainforests',\n",
              " 'of',\n",
              " 'Kerala',\n",
              " '.']"
            ]
          },
          "metadata": {},
          "execution_count": 10
        }
      ]
    },
    {
      "cell_type": "code",
      "source": [
        "word_pun=nltk.wordpunct_tokenize(corpus)"
      ],
      "metadata": {
        "id": "1N0Feo9-Cx1h"
      },
      "execution_count": 11,
      "outputs": []
    },
    {
      "cell_type": "code",
      "source": [
        "word_pun"
      ],
      "metadata": {
        "colab": {
          "base_uri": "https://localhost:8080/"
        },
        "id": "DKxM3RKeHB6B",
        "outputId": "cc9ae419-52f4-487c-c17f-e78c9ee0ae85"
      },
      "execution_count": 12,
      "outputs": [
        {
          "output_type": "execute_result",
          "data": {
            "text/plain": [
              "['Our',\n",
              " 'country',\n",
              " 'is',\n",
              " 'a',\n",
              " 'mosaic',\n",
              " 'of',\n",
              " 'diverse',\n",
              " 'cultures',\n",
              " ',',\n",
              " 'traditions',\n",
              " ',',\n",
              " 'and',\n",
              " 'natural',\n",
              " 'wonders',\n",
              " '.',\n",
              " 'Geographically',\n",
              " ',',\n",
              " 'it',\n",
              " 'offers',\n",
              " 'a',\n",
              " 'breathtaking',\n",
              " 'spectrum',\n",
              " ',',\n",
              " 'from',\n",
              " 'the',\n",
              " 'majestic',\n",
              " 'Himalayan',\n",
              " 'peaks',\n",
              " 'in',\n",
              " 'the',\n",
              " 'north',\n",
              " 'to',\n",
              " 'the',\n",
              " 'serene',\n",
              " 'beaches',\n",
              " 'in',\n",
              " 'the',\n",
              " 'south',\n",
              " '.',\n",
              " 'Our',\n",
              " 'nation',\n",
              " 'boasts',\n",
              " 'a',\n",
              " 'range',\n",
              " 'of',\n",
              " 'climates',\n",
              " ',',\n",
              " 'from',\n",
              " 'the',\n",
              " 'arid',\n",
              " 'deserts',\n",
              " 'of',\n",
              " 'Rajasthan',\n",
              " 'to',\n",
              " 'the',\n",
              " 'lush',\n",
              " 'rainforests',\n",
              " 'of',\n",
              " 'Kerala',\n",
              " '.']"
            ]
          },
          "metadata": {},
          "execution_count": 12
        }
      ]
    },
    {
      "cell_type": "code",
      "source": [
        "stem=nltk.PorterStemmer(\"running\")"
      ],
      "metadata": {
        "colab": {
          "base_uri": "https://localhost:8080/",
          "height": 263
        },
        "id": "s6SRt8p0HDuR",
        "outputId": "f1b1f86e-c214-4128-81cc-21eae24a4cac"
      },
      "execution_count": 15,
      "outputs": [
        {
          "output_type": "error",
          "ename": "ValueError",
          "evalue": "Mode must be one of PorterStemmer.NLTK_EXTENSIONS, PorterStemmer.MARTIN_EXTENSIONS, or PorterStemmer.ORIGINAL_ALGORITHM",
          "traceback": [
            "\u001b[0;31m---------------------------------------------------------------------------\u001b[0m",
            "\u001b[0;31mValueError\u001b[0m                                Traceback (most recent call last)",
            "\u001b[0;32m<ipython-input-15-4f00cb3ea0b5>\u001b[0m in \u001b[0;36m<cell line: 1>\u001b[0;34m()\u001b[0m\n\u001b[0;32m----> 1\u001b[0;31m \u001b[0mstem\u001b[0m\u001b[0;34m=\u001b[0m\u001b[0mnltk\u001b[0m\u001b[0;34m.\u001b[0m\u001b[0mPorterStemmer\u001b[0m\u001b[0;34m(\u001b[0m\u001b[0;34m\"running\"\u001b[0m\u001b[0;34m)\u001b[0m\u001b[0;34m\u001b[0m\u001b[0;34m\u001b[0m\u001b[0m\n\u001b[0m",
            "\u001b[0;32m/usr/local/lib/python3.10/dist-packages/nltk/stem/porter.py\u001b[0m in \u001b[0;36m__init__\u001b[0;34m(self, mode)\u001b[0m\n\u001b[1;32m     90\u001b[0m             \u001b[0mself\u001b[0m\u001b[0;34m.\u001b[0m\u001b[0mORIGINAL_ALGORITHM\u001b[0m\u001b[0;34m,\u001b[0m\u001b[0;34m\u001b[0m\u001b[0;34m\u001b[0m\u001b[0m\n\u001b[1;32m     91\u001b[0m         ):\n\u001b[0;32m---> 92\u001b[0;31m             raise ValueError(\n\u001b[0m\u001b[1;32m     93\u001b[0m                 \u001b[0;34m\"Mode must be one of PorterStemmer.NLTK_EXTENSIONS, \"\u001b[0m\u001b[0;34m\u001b[0m\u001b[0;34m\u001b[0m\u001b[0m\n\u001b[1;32m     94\u001b[0m                 \u001b[0;34m\"PorterStemmer.MARTIN_EXTENSIONS, or \"\u001b[0m\u001b[0;34m\u001b[0m\u001b[0;34m\u001b[0m\u001b[0m\n",
            "\u001b[0;31mValueError\u001b[0m: Mode must be one of PorterStemmer.NLTK_EXTENSIONS, PorterStemmer.MARTIN_EXTENSIONS, or PorterStemmer.ORIGINAL_ALGORITHM"
          ]
        }
      ]
    },
    {
      "cell_type": "code",
      "source": [
        "from nltk.tokenize import word_tokenize,sent_tokenize\n",
        "word=word_tokenize(corpus)\n",
        "sent=sent_tokenize(corpus)\n",
        "print(word)\n",
        "print(sent)"
      ],
      "metadata": {
        "colab": {
          "base_uri": "https://localhost:8080/"
        },
        "id": "-Tz716s-Kzqj",
        "outputId": "143bb92d-fe29-42d5-8c03-c288d41f95b2"
      },
      "execution_count": 16,
      "outputs": [
        {
          "output_type": "stream",
          "name": "stdout",
          "text": [
            "['Our', 'country', 'is', 'a', 'mosaic', 'of', 'diverse', 'cultures', ',', 'traditions', ',', 'and', 'natural', 'wonders', '.', 'Geographically', ',', 'it', 'offers', 'a', 'breathtaking', 'spectrum', ',', 'from', 'the', 'majestic', 'Himalayan', 'peaks', 'in', 'the', 'north', 'to', 'the', 'serene', 'beaches', 'in', 'the', 'south', '.', 'Our', 'nation', 'boasts', 'a', 'range', 'of', 'climates', ',', 'from', 'the', 'arid', 'deserts', 'of', 'Rajasthan', 'to', 'the', 'lush', 'rainforests', 'of', 'Kerala', '.']\n",
            "['Our country is a mosaic of diverse cultures, traditions, and natural wonders.', 'Geographically, it offers a breathtaking spectrum, from the majestic Himalayan peaks in the north to the serene beaches in the south.', 'Our nation boasts a range of climates, from the arid deserts of Rajasthan to the lush rainforests of Kerala.']\n"
          ]
        }
      ]
    },
    {
      "cell_type": "code",
      "source": [
        " from nltk.stem import PorterStemmer\n",
        " stem=PorterStemmer()\n",
        " stem.stem(\"running\")"
      ],
      "metadata": {
        "colab": {
          "base_uri": "https://localhost:8080/",
          "height": 35
        },
        "id": "LfUOzvlGLajA",
        "outputId": "0d499aed-bcf9-489d-a6b1-c6278b07b9ba"
      },
      "execution_count": 18,
      "outputs": [
        {
          "output_type": "execute_result",
          "data": {
            "text/plain": [
              "'run'"
            ],
            "application/vnd.google.colaboratory.intrinsic+json": {
              "type": "string"
            }
          },
          "metadata": {},
          "execution_count": 18
        }
      ]
    },
    {
      "cell_type": "code",
      "source": [
        "from nltk.tokenize import word_tokenize\n",
        "word=word_tokenize()\n",
        "word.tokenize(corpus)"
      ],
      "metadata": {
        "colab": {
          "base_uri": "https://localhost:8080/",
          "height": 176
        },
        "id": "zDxlSOh9QUEk",
        "outputId": "f9f7fe77-f4d5-41ca-f600-6d1a53babbb1"
      },
      "execution_count": 20,
      "outputs": [
        {
          "output_type": "error",
          "ename": "TypeError",
          "evalue": "word_tokenize() missing 1 required positional argument: 'text'",
          "traceback": [
            "\u001b[0;31m---------------------------------------------------------------------------\u001b[0m",
            "\u001b[0;31mTypeError\u001b[0m                                 Traceback (most recent call last)",
            "\u001b[0;32m<ipython-input-20-89220a1463a1>\u001b[0m in \u001b[0;36m<cell line: 2>\u001b[0;34m()\u001b[0m\n\u001b[1;32m      1\u001b[0m \u001b[0;32mfrom\u001b[0m \u001b[0mnltk\u001b[0m\u001b[0;34m.\u001b[0m\u001b[0mtokenize\u001b[0m \u001b[0;32mimport\u001b[0m \u001b[0mword_tokenize\u001b[0m\u001b[0;34m\u001b[0m\u001b[0;34m\u001b[0m\u001b[0m\n\u001b[0;32m----> 2\u001b[0;31m \u001b[0mword\u001b[0m\u001b[0;34m=\u001b[0m\u001b[0mword_tokenize\u001b[0m\u001b[0;34m(\u001b[0m\u001b[0;34m)\u001b[0m\u001b[0;34m\u001b[0m\u001b[0;34m\u001b[0m\u001b[0m\n\u001b[0m\u001b[1;32m      3\u001b[0m \u001b[0mword\u001b[0m\u001b[0;34m.\u001b[0m\u001b[0mtokenize\u001b[0m\u001b[0;34m(\u001b[0m\u001b[0mcorpus\u001b[0m\u001b[0;34m)\u001b[0m\u001b[0;34m\u001b[0m\u001b[0;34m\u001b[0m\u001b[0m\n",
            "\u001b[0;31mTypeError\u001b[0m: word_tokenize() missing 1 required positional argument: 'text'"
          ]
        }
      ]
    },
    {
      "cell_type": "code",
      "source": [
        "from nltk.stem import RegexpStemmer,SnowballStemmer\n",
        "stem1=RegexpStemmer(\"ing|ed|es\",min=3)\n",
        "stem1.stem(\"stemming\")"
      ],
      "metadata": {
        "colab": {
          "base_uri": "https://localhost:8080/",
          "height": 35
        },
        "id": "ZnpzyZoTRsII",
        "outputId": "72cdb8b6-9419-4f26-c708-d72d01fd5284"
      },
      "execution_count": 22,
      "outputs": [
        {
          "output_type": "execute_result",
          "data": {
            "text/plain": [
              "'stemm'"
            ],
            "application/vnd.google.colaboratory.intrinsic+json": {
              "type": "string"
            }
          },
          "metadata": {},
          "execution_count": 22
        }
      ]
    },
    {
      "cell_type": "code",
      "source": [
        "stem2=SnowballStemmer(\"english\")\n",
        "stem2.stem(\"running\")"
      ],
      "metadata": {
        "colab": {
          "base_uri": "https://localhost:8080/",
          "height": 35
        },
        "id": "YudlcdMwTtw-",
        "outputId": "32028986-20c1-4b96-b908-f56907e10568"
      },
      "execution_count": 26,
      "outputs": [
        {
          "output_type": "execute_result",
          "data": {
            "text/plain": [
              "'run'"
            ],
            "application/vnd.google.colaboratory.intrinsic+json": {
              "type": "string"
            }
          },
          "metadata": {},
          "execution_count": 26
        }
      ]
    },
    {
      "cell_type": "code",
      "source": [
        "import nltk\n",
        "nltk.download('wordnet')\n",
        "\n",
        ""
      ],
      "metadata": {
        "colab": {
          "base_uri": "https://localhost:8080/",
          "height": 70
        },
        "id": "sa3Tv73dVIeC",
        "outputId": "13dd003d-743c-43ac-9437-dd52ebf1291d"
      },
      "execution_count": 6,
      "outputs": [
        {
          "output_type": "stream",
          "name": "stderr",
          "text": [
            "[nltk_data] Downloading package wordnet to /root/nltk_data...\n",
            "[nltk_data]   Package wordnet is already up-to-date!\n"
          ]
        },
        {
          "output_type": "execute_result",
          "data": {
            "text/plain": [
              "'better'"
            ],
            "application/vnd.google.colaboratory.intrinsic+json": {
              "type": "string"
            }
          },
          "metadata": {},
          "execution_count": 6
        }
      ]
    },
    {
      "cell_type": "code",
      "source": [
        "from nltk.stem import WordNetLemmatizer\n",
        "lem=WordNetLemmatizer()\n",
        "lem.lemmatize(\"better\")"
      ],
      "metadata": {
        "colab": {
          "base_uri": "https://localhost:8080/",
          "height": 35
        },
        "id": "Xhuy-MaDt5yQ",
        "outputId": "39d9e0f6-3ad0-4806-c800-bf485ba922f1"
      },
      "execution_count": 7,
      "outputs": [
        {
          "output_type": "execute_result",
          "data": {
            "text/plain": [
              "'better'"
            ],
            "application/vnd.google.colaboratory.intrinsic+json": {
              "type": "string"
            }
          },
          "metadata": {},
          "execution_count": 7
        }
      ]
    },
    {
      "cell_type": "code",
      "source": [],
      "metadata": {
        "id": "Ah_3mj2vvlYj"
      },
      "execution_count": null,
      "outputs": []
    }
  ]
}